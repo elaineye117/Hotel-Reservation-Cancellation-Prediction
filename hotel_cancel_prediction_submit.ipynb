{
 "cells": [
  {
   "cell_type": "markdown",
   "metadata": {
    "colab_type": "text",
    "id": "knV7Te1MFvdL"
   },
   "source": [
    "## Sample code\n",
    "\n",
    "Borrowed codes are the same as the ones in EDA.ipynb file"
   ]
  },
  {
   "cell_type": "markdown",
   "metadata": {
    "colab_type": "text",
    "id": "WmOE6rQMFvdM"
   },
   "source": [
    "### Installing the library\n",
    "\n",
    "This code is borrowed below"
   ]
  },
  {
   "cell_type": "code",
   "execution_count": 1,
   "metadata": {
    "colab": {},
    "colab_type": "code",
    "id": "gmXuyc_RFvdN"
   },
   "outputs": [],
   "source": [
    "from itertools import cycle\n",
    "import re\n",
    "\n",
    "import warnings\n",
    "import datetime\n",
    "from collections import defaultdict\n",
    "\n",
    "import pandas as pd\n",
    "import numpy as np\n",
    "import matplotlib.pyplot as plt\n",
    "import seaborn as sns\n",
    "\n",
    "import sklearn\n",
    "from sklearn.model_selection import train_test_split, KFold, cross_validate, cross_val_score\n",
    "from sklearn.pipeline import Pipeline\n",
    "from sklearn.compose import ColumnTransformer\n",
    "from sklearn.preprocessing import LabelEncoder, OneHotEncoder\n",
    "from sklearn.impute import SimpleImputer\n",
    "from sklearn.ensemble import RandomForestClassifier\n",
    "from sklearn.linear_model import LogisticRegression\n",
    "from sklearn.tree import DecisionTreeClassifier\n",
    "from sklearn.metrics import accuracy_score,auc,log_loss,roc_curve,roc_auc_score\n",
    "\n"
   ]
  },
  {
   "cell_type": "code",
   "execution_count": 2,
   "metadata": {
    "colab": {},
    "colab_type": "code",
    "id": "L65aoje1FvdQ"
   },
   "outputs": [],
   "source": [
    "#Setting up the notebook’s plots\n",
    "warnings.filterwarnings(\"ignore\")\n",
    "pd.set_option('max_columns', 50)\n",
    "plt.style.use('bmh')\n",
    "color_pal = plt.rcParams['axes.prop_cycle'].by_key()['color']\n",
    "color_cycle = cycle(plt.rcParams['axes.prop_cycle'].by_key()['color'])\n",
    "\n"
   ]
  },
  {
   "cell_type": "markdown",
   "metadata": {
    "colab_type": "text",
    "id": "o_IIVDDRFvdS"
   },
   "source": [
    "### Loading the learning data\n",
    "\n",
    "This code is borrowed"
   ]
  },
  {
   "cell_type": "code",
   "execution_count": 19,
   "metadata": {
    "colab": {},
    "colab_type": "code",
    "id": "RSptShDUFvdT",
    "outputId": "6df4a005-d854-4af2-ee63-1421da6ee42a",
    "scrolled": true
   },
   "outputs": [
    {
     "name": "stdout",
     "output_type": "stream",
     "text": [
      "(108785, 27) (10099, 26)\n"
     ]
    }
   ],
   "source": [
    "train_path = 'train.csv'\n",
    "test_path = 'test.csv'\n",
    "\n",
    "train_df = pd.read_csv(train_path)\n",
    "test_df = pd.read_csv(test_path)\n",
    "\n",
    "df = pd.concat([train_df,test_df])\n",
    "print(train_df.shape,test_df.shape)\n",
    "\n",
    "df['arrival_date'] = pd.to_datetime(df['arrival_date'])"
   ]
  },
  {
   "cell_type": "markdown",
   "metadata": {
    "colab_type": "text",
    "id": "OSvJ7zOqFvdW"
   },
   "source": [
    "### Preprocessing\n",
    "\n",
    "This code below is original"
   ]
  },
  {
   "cell_type": "code",
   "execution_count": 20,
   "metadata": {},
   "outputs": [],
   "source": [
    "train_df = train_df[(train_df.adr > 0) &(train_df.adr < 1000)&(train_df.required_car_parking_spaces < 5)]"
   ]
  },
  {
   "cell_type": "code",
   "execution_count": 21,
   "metadata": {},
   "outputs": [],
   "source": [
    "train_df[\"eval\"] = (train_df.adults == 0) & ((train_df.children > 0)|(train_df.babies > 0)) | (train_df.required_car_parking_spaces > 0)"
   ]
  },
  {
   "cell_type": "code",
   "execution_count": 22,
   "metadata": {},
   "outputs": [],
   "source": [
    "train_df[\"eval\"] = train_df[\"eval\"].astype(str)"
   ]
  },
  {
   "cell_type": "code",
   "execution_count": 23,
   "metadata": {},
   "outputs": [],
   "source": [
    "train_df = train_df[train_df[\"eval\"] == \"False\"]"
   ]
  },
  {
   "cell_type": "code",
   "execution_count": 24,
   "metadata": {},
   "outputs": [
    {
     "data": {
      "text/plain": [
       "PRT    41682\n",
       "GBR    10157\n",
       "FRA     8909\n",
       "ESP     6448\n",
       "DEU     6108\n",
       "       ...  \n",
       "VGB        1\n",
       "KIR        1\n",
       "NCL        1\n",
       "DMA        1\n",
       "MYT        1\n",
       "Name: country, Length: 172, dtype: int64"
      ]
     },
     "execution_count": 24,
     "metadata": {},
     "output_type": "execute_result"
    }
   ],
   "source": [
    "train_df[\"country\"].value_counts()"
   ]
  },
  {
   "cell_type": "code",
   "execution_count": 33,
   "metadata": {},
   "outputs": [],
   "source": [
    "num_features = [\"lead_time\",\n",
    "                \"stays_in_weekend_nights\",\"stays_in_week_nights\",\"adults\",\"children\",\n",
    "                \"previous_cancellations\",\"previous_bookings_not_canceled\",\n",
    "                \"required_car_parking_spaces\", \"total_of_special_requests\", \"adr\"]\n",
    "\n",
    "cat_features = [\"hotel\",\"meal\",\"market_segment\",\n",
    "                \"distribution_channel\",\"reserved_room_type\",\"assigned_room_type\",\"customer_type\"]\n",
    "\n",
    "features = num_features + cat_features"
   ]
  },
  {
   "cell_type": "markdown",
   "metadata": {},
   "source": [
    "#### These code below is borrowed"
   ]
  },
  {
   "cell_type": "code",
   "execution_count": 34,
   "metadata": {
    "colab": {},
    "colab_type": "code",
    "id": "79UN6wO_FvdY"
   },
   "outputs": [],
   "source": [
    "#Convert the category variables into numerals\n",
    "le = LabelEncoder()\n",
    "le_dict = {}\n",
    "for col in cat_features:\n",
    "    train_df[col] = le.fit_transform(train_df[col])\n",
    "    test_df[col] = le.transform(test_df[col])\n",
    "    le_dict['col']=le\n",
    "\n",
    "#Convert into category-types\n",
    "train_df[cat_features] = train_df[cat_features].astype('category')\n",
    "test_df[cat_features] = test_df[cat_features].astype('category')"
   ]
  },
  {
   "cell_type": "code",
   "execution_count": 35,
   "metadata": {},
   "outputs": [],
   "source": [
    "from sklearn.utils import shuffle\n",
    "train_df = shuffle(train_df)\n",
    "train_df_new = train_df.iloc[:80000,:]\n",
    "valid_df = train_df.iloc[80000:,:]"
   ]
  },
  {
   "cell_type": "code",
   "execution_count": 36,
   "metadata": {
    "colab": {},
    "colab_type": "code",
    "id": "kaLSKJ13Fvdb"
   },
   "outputs": [],
   "source": [
    "#Separate the explanatory variables and objective variables\n",
    "train_y = train_df_new[\"is_canceled\"]\n",
    "train_X = train_df_new.drop([\"is_canceled\",'arrival_date'], axis=1)[features]\n",
    "\n",
    "test_X = valid_df.drop(['arrival_date','is_canceled'], axis=1)[features]\n",
    "test_Y = valid_df['is_canceled']"
   ]
  },
  {
   "cell_type": "code",
   "execution_count": 37,
   "metadata": {
    "colab": {},
    "colab_type": "code",
    "id": "TZeOcYAuFvde"
   },
   "outputs": [],
   "source": [
    "# Convert dataframe into numpy.array\n",
    "train_X_arr = train_X.values\n",
    "test_X_arr = test_X.values"
   ]
  },
  {
   "cell_type": "code",
   "execution_count": 13,
   "metadata": {
    "colab": {},
    "colab_type": "code",
    "id": "QEB8vqBcFvdg"
   },
   "outputs": [],
   "source": [
    "#Define the model\n",
    "clf = RandomForestClassifier()"
   ]
  },
  {
   "cell_type": "code",
   "execution_count": 14,
   "metadata": {},
   "outputs": [],
   "source": [
    "# from sklearn.ensemble import AdaBoostClassifier\n",
    "# clf = AdaBoostClassifier() -- 0.9337"
   ]
  },
  {
   "cell_type": "code",
   "execution_count": 15,
   "metadata": {},
   "outputs": [],
   "source": [
    "# from sklearn.ensemble import GradientBoostingClassifier\n",
    "# clf = GradientBoostingClassifier() -- 0.939"
   ]
  },
  {
   "cell_type": "markdown",
   "metadata": {
    "colab_type": "text",
    "id": "vmEPMe4dFvdi"
   },
   "source": [
    "## Learning\n",
    "\n",
    "Conduct a 4-fold cross-validation."
   ]
  },
  {
   "cell_type": "code",
   "execution_count": 16,
   "metadata": {
    "colab": {},
    "colab_type": "code",
    "id": "wDYfDH0LFvdj",
    "outputId": "02482b25-2e30-4240-8135-87ea2af8d208"
   },
   "outputs": [
    {
     "name": "stdout",
     "output_type": "stream",
     "text": [
      "0123"
     ]
    }
   ],
   "source": [
    "kfolds = 4 # 4 = 75% train, 25% validation\n",
    "split = KFold(n_splits=kfolds, shuffle=True, random_state=42)\n",
    "oof = np.zeros((len(train_X_arr),))\n",
    "preds =np.zeros((len(test_X_arr),))\n",
    "\n",
    "for i,(train_idx, val_idx) in enumerate(split.split(train_X_arr, train_y)):\n",
    "    print(i,end='')\n",
    "    clf = RandomForestClassifier()\n",
    "    clf_train = clf.fit(train_X_arr[train_idx,:], train_y[train_idx])\n",
    "    \n",
    "    #Obtain the predicted values of the validation data\n",
    "    oof[val_idx] = clf.predict_proba(train_X_arr[val_idx,:])[:,1]\n",
    "    #Obtain the predicted values of the test data\n",
    "    preds += clf.predict_proba(test_X_arr)[:,1]/ split.n_splits\n"
   ]
  },
  {
   "cell_type": "markdown",
   "metadata": {
    "colab_type": "text",
    "id": "Vfnr0sNoFvdl"
   },
   "source": [
    "### Precision check using the results produced from the cross-validation"
   ]
  },
  {
   "cell_type": "code",
   "execution_count": 17,
   "metadata": {
    "colab": {},
    "colab_type": "code",
    "id": "FMCJ-iw_Fvdl"
   },
   "outputs": [],
   "source": [
    "pred_train_df = train_df.copy()\n",
    "pred_train_df['preds'] = oof"
   ]
  },
  {
   "cell_type": "code",
   "execution_count": 18,
   "metadata": {
    "colab": {},
    "colab_type": "code",
    "id": "uF_YEUD8Fvdo",
    "outputId": "43fe0941-2203-4825-d846-08cba250abef"
   },
   "outputs": [
    {
     "name": "stdout",
     "output_type": "stream",
     "text": [
      "log_loss: 0.3530318103456611\n",
      "auc score: 0.9337817323423345\n"
     ]
    },
    {
     "data": {
      "image/png": "[encoded data removed]",
      "text/plain": [
       "<Figure size 432x288 with 1 Axes>"
      ]
     },
     "metadata": {
      "needs_background": "light"
     },
     "output_type": "display_data"
    }
   ],
   "source": [
    "#Create a ROC curve using the validation data\n",
    "fpr, tpr, thresholds = roc_curve(pred_train_df['is_canceled'],pred_train_df['preds'])\n",
    "plt.grid(b=True, which='major', linestyle='-')\n",
    "plt.plot(fpr, tpr, marker='.')\n",
    "plt.xlabel('FPR: False positive rate')\n",
    "plt.ylabel('TPR: True positive rate')\n",
    "plt.plot()\n",
    "print('log_loss:',log_loss(pred_train_df['is_canceled'],pred_train_df['preds']))\n",
    "print('auc score:',roc_auc_score(pred_train_df['is_canceled'],pred_train_df['preds']))"
   ]
  },
  {
   "cell_type": "code",
   "execution_count": 19,
   "metadata": {
    "colab": {},
    "colab_type": "code",
    "id": "aSNMaC9sFvdq",
    "outputId": "11c8ca94-890e-44ef-860e-c5ffd6baef9d"
   },
   "outputs": [
    {
     "data": {
      "text/plain": [
       "<matplotlib.axes._subplots.AxesSubplot at 0x7fea21ac4390>"
      ]
     },
     "execution_count": 19,
     "metadata": {},
     "output_type": "execute_result"
    },
    {
     "data": {
      "image/png": "[encoded data removed]",
      "text/plain": [
       "<Figure size 432x288 with 1 Axes>"
      ]
     },
     "metadata": {
      "needs_background": "light"
     },
     "output_type": "display_data"
    }
   ],
   "source": [
    "#　Confirm the distribution of predictions\n",
    "sns.violinplot(pred_train_df['is_canceled'],pred_train_df['preds'])"
   ]
  },
  {
   "cell_type": "markdown",
   "metadata": {},
   "source": [
    "#### These code below is original"
   ]
  },
  {
   "cell_type": "code",
   "execution_count": 38,
   "metadata": {},
   "outputs": [],
   "source": [
    "from sklearn.model_selection import cross_val_score\n",
    "from sklearn import metrics\n",
    "import os\n",
    "from sklearn.model_selection import GridSearchCV\n",
    "import sklearn.ensemble as skens"
   ]
  },
  {
   "cell_type": "code",
   "execution_count": 61,
   "metadata": {},
   "outputs": [
    {
     "name": "stdout",
     "output_type": "stream",
     "text": [
      "RandomForest best score: 0.9171281161057911\n",
      "RandomForest best params {'max_depth': 200, 'max_features': 9, 'n_estimators': 1000}\n"
     ]
    }
   ],
   "source": [
    "from sklearn.ensemble import RandomForestClassifier\n",
    "\n",
    "parameters = {'n_estimators':[1000,1500],\n",
    "              'max_depth':[200,300],\n",
    "              'max_features':[9]\n",
    "             }\n",
    "\n",
    "rf = RandomForestClassifier(random_state = 0,n_jobs = -1)\n",
    "clf_rf = GridSearchCV(rf, parameters,cv=4,scoring='roc_auc')\n",
    "clf_rf.fit(train_X, train_y)\n",
    "print('RandomForest best score:',clf_rf.best_score_) \n",
    "print('RandomForest best params',clf_rf.best_params_) \n"
   ]
  },
  {
   "cell_type": "code",
   "execution_count": 40,
   "metadata": {},
   "outputs": [
    {
     "data": {
      "text/plain": [
       "RandomForestClassifier(max_depth=200, max_features=9, n_estimators=1000,\n",
       "                       n_jobs=-1, random_state=0)"
      ]
     },
     "execution_count": 40,
     "metadata": {},
     "output_type": "execute_result"
    }
   ],
   "source": [
    "rf_best = RandomForestClassifier(random_state = 0,n_jobs = -1,max_features = 9, max_depth = 200,n_estimators = 1000)\n",
    "rf_best.fit(train_X,train_y)"
   ]
  },
  {
   "cell_type": "code",
   "execution_count": 62,
   "metadata": {},
   "outputs": [
    {
     "data": {
      "text/plain": [
       "0.8426281574768394"
      ]
     },
     "execution_count": 62,
     "metadata": {},
     "output_type": "execute_result"
    }
   ],
   "source": [
    "predict_Y = rf_best.predict(test_X)\n",
    "roc_auc_score(test_Y,predict_Y)"
   ]
  },
  {
   "cell_type": "markdown",
   "metadata": {},
   "source": [
    "## Feature Importance"
   ]
  },
  {
   "cell_type": "code",
   "execution_count": 41,
   "metadata": {},
   "outputs": [
    {
     "data": {
      "image/png": "[encoded data removed]",
      "text/plain": [
       "<Figure size 432x288 with 1 Axes>"
      ]
     },
     "metadata": {
      "needs_background": "light"
     },
     "output_type": "display_data"
    }
   ],
   "source": [
    "import matplotlib.pyplot as plt\n",
    "\n",
    "features = train_X.columns\n",
    "importances = rf_best.feature_importances_\n",
    "indices = np.argsort(importances)\n",
    "\n",
    "plt.title('Feature Importances')\n",
    "plt.barh(range(len(indices)), importances[indices], color='b', align='center')\n",
    "plt.yticks(range(len(indices)), [features[i] for i in indices])\n",
    "plt.xlabel('Relative Importance')\n",
    "plt.show()"
   ]
  },
  {
   "cell_type": "markdown",
   "metadata": {
    "colab_type": "text",
    "id": "1sbFsXgRFvdt"
   },
   "source": [
    "### Creating the code for submission"
   ]
  },
  {
   "cell_type": "code",
   "execution_count": 14,
   "metadata": {
    "colab": {},
    "colab_type": "code",
    "id": "V2aFeTISFvdt"
   },
   "outputs": [
    {
     "ename": "NameError",
     "evalue": "name 'preds' is not defined",
     "output_type": "error",
     "traceback": [
      "\u001b[0;31m---------------------------------------------------------------------------\u001b[0m",
      "\u001b[0;31mNameError\u001b[0m                                 Traceback (most recent call last)",
      "\u001b[0;32m<ipython-input-14-a98deeb47c86>\u001b[0m in \u001b[0;36m<module>\u001b[0;34m\u001b[0m\n\u001b[1;32m      1\u001b[0m \u001b[0;31m#Load the predicted values onto the dataframe for submission\u001b[0m\u001b[0;34m\u001b[0m\u001b[0;34m\u001b[0m\u001b[0;34m\u001b[0m\u001b[0m\n\u001b[1;32m      2\u001b[0m \u001b[0msubmission\u001b[0m \u001b[0;34m=\u001b[0m \u001b[0mtest_df\u001b[0m\u001b[0;34m.\u001b[0m\u001b[0mcopy\u001b[0m\u001b[0;34m(\u001b[0m\u001b[0;34m)\u001b[0m\u001b[0;34m\u001b[0m\u001b[0;34m\u001b[0m\u001b[0m\n\u001b[0;32m----> 3\u001b[0;31m \u001b[0msubmission\u001b[0m\u001b[0;34m[\u001b[0m\u001b[0;34m'preds'\u001b[0m\u001b[0;34m]\u001b[0m \u001b[0;34m=\u001b[0m \u001b[0mpreds\u001b[0m\u001b[0;34m\u001b[0m\u001b[0;34m\u001b[0m\u001b[0m\n\u001b[0m",
      "\u001b[0;31mNameError\u001b[0m: name 'preds' is not defined"
     ]
    }
   ],
   "source": [
    "#Load the predicted values onto the dataframe for submission\n",
    "submission = test_df.copy()\n",
    "preds = \n",
    "submission['preds'] = preds"
   ]
  },
  {
   "cell_type": "code",
   "execution_count": 21,
   "metadata": {
    "colab": {},
    "colab_type": "code",
    "id": "14-ZIWJLFvdv"
   },
   "outputs": [],
   "source": [
    "submission[['id','preds']].to_csv('submission.csv')"
   ]
  }
 ],
 "metadata": {
  "colab": {
   "collapsed_sections": [],
   "name": "hotel_baseline(English).ipynb",
   "provenance": []
  },
  "kernelspec": {
   "display_name": "Python 3",
   "language": "python",
   "name": "python3"
  },
  "language_info": {
   "codemirror_mode": {
    "name": "ipython",
    "version": 3
   },
   "file_extension": ".py",
   "mimetype": "text/x-python",
   "name": "python",
   "nbconvert_exporter": "python",
   "pygments_lexer": "ipython3",
   "version": "3.7.6"
  }
 },
 "nbformat": 4,
 "nbformat_minor": 1
}
